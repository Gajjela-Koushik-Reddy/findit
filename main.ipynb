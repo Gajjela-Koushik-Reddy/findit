{
 "cells": [
  {
   "cell_type": "code",
   "execution_count": 1,
   "metadata": {},
   "outputs": [],
   "source": [
    "from langchain_community.document_loaders.pdf import PyPDFDirectoryLoader\n",
    "\n",
    "DATA_PATH = \"data\"\n",
    "def loadDocuments():\n",
    "    loader = PyPDFDirectoryLoader(DATA_PATH)\n",
    "    documents = loader.load()\n",
    "    return documents"
   ]
  },
  {
   "cell_type": "code",
   "execution_count": 2,
   "metadata": {},
   "outputs": [],
   "source": [
    "docs = loadDocuments()"
   ]
  },
  {
   "cell_type": "code",
   "execution_count": 3,
   "metadata": {},
   "outputs": [
    {
     "data": {
      "text/plain": [
       "30"
      ]
     },
     "execution_count": 3,
     "metadata": {},
     "output_type": "execute_result"
    }
   ],
   "source": [
    "len(docs)"
   ]
  },
  {
   "cell_type": "markdown",
   "metadata": {},
   "source": [
    "## Split the text into characters"
   ]
  },
  {
   "cell_type": "code",
   "execution_count": 4,
   "metadata": {},
   "outputs": [],
   "source": [
    "from langchain_text_splitters import RecursiveCharacterTextSplitter"
   ]
  },
  {
   "cell_type": "code",
   "execution_count": 5,
   "metadata": {},
   "outputs": [],
   "source": [
    "textSplitter = RecursiveCharacterTextSplitter(\n",
    "    chunk_size = 1000,\n",
    "    chunk_overlap = 500,\n",
    "    length_function = len,\n",
    "    add_start_index = True\n",
    ")"
   ]
  },
  {
   "cell_type": "code",
   "execution_count": 6,
   "metadata": {},
   "outputs": [],
   "source": [
    "chunks = textSplitter.split_documents(docs)"
   ]
  },
  {
   "cell_type": "code",
   "execution_count": 7,
   "metadata": {},
   "outputs": [
    {
     "name": "stdout",
     "output_type": "stream",
     "text": [
      "metadata: \n",
      " {'source': 'data/uno.pdf', 'page': 0, 'start_index': 0}\n",
      "page_content: \n",
      " UNO\n",
      "RULES\n",
      "RULES .ORGUNOTHE OFFICIAL\n",
      "THE RULES OF UNO ARE SIMPLE.\n",
      "HOWEVER, WE HAVE MADE IT EVEN\n",
      "EASIER TO SURVEY THE RULES AND\n",
      "ADDED AN FAQ AT THE END!\n",
      " \n",
      "CHECK OUT UNORULES.ORG FOR MORE!RULES\n",
      ".ORGUNO\n",
      "PRESENTS\n"
     ]
    }
   ],
   "source": [
    "print(\"metadata: \\n\",chunks[0].metadata)\n",
    "print(\"page_content: \\n\", chunks[0].page_content)"
   ]
  },
  {
   "cell_type": "code",
   "execution_count": 8,
   "metadata": {},
   "outputs": [
    {
     "data": {
      "text/plain": [
       "30"
      ]
     },
     "execution_count": 8,
     "metadata": {},
     "output_type": "execute_result"
    }
   ],
   "source": [
    "len(docs)"
   ]
  },
  {
   "cell_type": "code",
   "execution_count": 10,
   "metadata": {},
   "outputs": [],
   "source": [
    "import chromadb\n",
    "\n",
    "chroma_client = chromadb.Client()"
   ]
  },
  {
   "cell_type": "markdown",
   "metadata": {},
   "source": [
    "## Load API Key"
   ]
  },
  {
   "cell_type": "code",
   "execution_count": 11,
   "metadata": {},
   "outputs": [
    {
     "data": {
      "text/plain": [
       "True"
      ]
     },
     "execution_count": 11,
     "metadata": {},
     "output_type": "execute_result"
    }
   ],
   "source": [
    "from dotenv import load_dotenv\n",
    "load_dotenv()"
   ]
  },
  {
   "cell_type": "code",
   "execution_count": 12,
   "metadata": {},
   "outputs": [],
   "source": [
    "import os\n",
    "API_KEY = os.environ.get('OPENAI_API_KEY')"
   ]
  },
  {
   "cell_type": "code",
   "execution_count": 13,
   "metadata": {},
   "outputs": [],
   "source": [
    "import os\n",
    "from langchain_openai import OpenAIEmbeddings\n",
    "from chromadb.utils import embedding_functions\n",
    "import chromadb.utils.embedding_functions as embedding_functions\n",
    "\n",
    "openai_ef = embedding_functions.OpenAIEmbeddingFunction(\n",
    "                api_key=API_KEY,\n",
    "                model_name=\"text-embedding-ada-002\"\n",
    "            )\n",
    "\n",
    "collection = chroma_client.get_or_create_collection(name=\"my_collection\", embedding_function=openai_ef)"
   ]
  },
  {
   "cell_type": "code",
   "execution_count": 14,
   "metadata": {},
   "outputs": [],
   "source": [
    "# Prepare the data for insertion\n",
    "documents = []\n",
    "metadatas = []\n",
    "ids = []\n",
    "\n",
    "for chunk in chunks:\n",
    "    documents.append(chunk.page_content)\n",
    "    metadatas.append(chunk.metadata)\n",
    "    if len(ids) == 0:\n",
    "        ids.append(0)\n",
    "    else:\n",
    "        ids.append(ids[-1] + 1)"
   ]
  },
  {
   "cell_type": "code",
   "execution_count": 15,
   "metadata": {},
   "outputs": [
    {
     "data": {
      "text/plain": [
       "str"
      ]
     },
     "execution_count": 15,
     "metadata": {},
     "output_type": "execute_result"
    }
   ],
   "source": [
    "type(documents[0])"
   ]
  },
  {
   "cell_type": "code",
   "execution_count": 16,
   "metadata": {},
   "outputs": [],
   "source": [
    "ids_str = []\n",
    "for id in ids:\n",
    "    ids_str.append(str(id))\n",
    "\n",
    "# Insert the data into the collection\n",
    "collection.add(\n",
    "    documents=documents,\n",
    "    metadatas=metadatas,\n",
    "    ids=ids_str\n",
    ")"
   ]
  },
  {
   "cell_type": "code",
   "execution_count": 45,
   "metadata": {},
   "outputs": [],
   "source": [
    "query_txt = \"ice cream\""
   ]
  },
  {
   "cell_type": "code",
   "execution_count": 46,
   "metadata": {},
   "outputs": [],
   "source": [
    "results = collection.query(query_texts=[query_txt], n_results=5)"
   ]
  },
  {
   "cell_type": "code",
   "execution_count": 47,
   "metadata": {},
   "outputs": [
    {
     "data": {
      "text/plain": [
       "{'ids': [['65', '27', '29', '30', '64']],\n",
       " 'distances': [[0.5465304851531982,\n",
       "   0.5557506084442139,\n",
       "   0.5559098720550537,\n",
       "   0.5587649941444397,\n",
       "   0.5590863227844238]],\n",
       " 'metadatas': [[{'page': 7, 'source': 'data/risk.pdf', 'start_index': 1592},\n",
       "   {'page': 2, 'source': 'data/monopoly.pdf', 'start_index': 524},\n",
       "   {'page': 2, 'source': 'data/monopoly.pdf', 'start_index': 1560},\n",
       "   {'page': 2, 'source': 'data/monopoly.pdf', 'start_index': 2037},\n",
       "   {'page': 7, 'source': 'data/risk.pdf', 'start_index': 1110}]],\n",
       " 'embeddings': None,\n",
       " 'documents': [['own, or connected to it by a dashed line. Examples: Greenland mayattack the Northwest Territory, Ontario, Quebec and Iceland. North\\nAfrica may attack Egypt, Western Europe and Brazil. At the western and\\neastern edges of the board, Alaska is considered adjacent to, and mayattack, Kamchatka.\\nYou must always have at least two armies in the territory you ’re\\nattacking from.\\nYou may continue attacking one territory until you have eliminated all\\narmies on it, or you may shift your attack from one territory to another,attacking each as often as you like and attacking as many territories as\\nyou like during one turn.',\n",
       "   'agreeable to both.\\n“INCOME TAX”… If you land here you have two options: You may\\nestimate your tax at $200 and pay the Bank, or you may pay 10% of\\nyour total worth to the Bank. Your total worth is all your cash on\\nhand, printed prices of mortgaged and unmortgaged properties and\\ncost price of all buildings you own.\\nYou must decide which option you will take before you add up\\nyour total worth.\\n“JAIL”… You land in Jail when…(1) your token lands on the space\\nmarked “Go to Jail”; (2) you draw a card marked “Go to Jail”; or\\n(3) you throw doubles three times in succession.\\nWhen you are sent to Jail you cannot collect your $200 salary in that\\nmove since, regardless of where your token is on the board, you must\\nmove it directly into Jail. Yours turn ends when you are sent to Jail.\\nIf you are not “sent” to Jail but in the ordinary course of play land\\non that space, you are “Just Visiting,” you incur no penalty, and you\\nmove ahead in the usual manner on your next turn.',\n",
       "   'three turns; if you succeed in doing this you immediately move\\nforward the number of spaces shown by your doubles throw; even\\nthough you had thrown doubles, you do not take another turn;\\n(2) using the “Get Out of Jail Free” card if you have it; (3) purchasing\\nthe “Get Out of Jail Free” card from another player and playing it;\\n(4) paying a fine of $50 before you roll the dice on either of your next\\ntwo turns.\\nIf you do not throw doubles by your third turn, you must pay the\\n$50 fine. You then get out of Jail and immediately move forward the\\nnumber of spaces shown by your throw.\\nEven though you are in Jail, you may buy and sell property, buy\\nand sell houses and hotels and collect rents.\\n“FREE PARKING”… A player landing on this place does not receive\\nany money, property or reward of any kind. This is just a “free”\\nresting place.\\nHOUSES… When you own all the properties in a color-group you\\nmay buy houses from the Bank and erect them on those properties.',\n",
       "   '$50 fine. You then get out of Jail and immediately move forward the\\nnumber of spaces shown by your throw.\\nEven though you are in Jail, you may buy and sell property, buy\\nand sell houses and hotels and collect rents.\\n“FREE PARKING”… A player landing on this place does not receive\\nany money, property or reward of any kind. This is just a “free”\\nresting place.\\nHOUSES… When you own all the properties in a color-group you\\nmay buy houses from the Bank and erect them on those properties.\\nIf you buy one house, you may put it on any one of those\\nproperties. The next house you buy must be erected on one of the\\nunimproved properties of this or any other complete color-group you\\nmay own.\\nThe price you must pay the Bank for each house is shown on your\\nTitle Deed card for the property on which you erect the house.',\n",
       "   'to attack at this time. The object of an attack is to capture a territory bydefeating all the opposing armies already on it. The battle is fought by a rollof the dice. Study the board for a moment. Do you want to attack?If you choose not to attack, pass the dice to the player on your left. Youmay still fortify your position, if you wish (see page 10).If you choose to attack, you must follow these rules:\\nYou may only attack a territory that ’s adjacent (touching) to one of your\\nown, or connected to it by a dashed line. Examples: Greenland mayattack the Northwest Territory, Ontario, Quebec and Iceland. North\\nAfrica may attack Egypt, Western Europe and Brazil. At the western and\\neastern edges of the board, Alaska is considered adjacent to, and mayattack, Kamchatka.\\nYou must always have at least two armies in the territory you ’re\\nattacking from.\\nYou may continue attacking one territory until you have eliminated all']],\n",
       " 'uris': None,\n",
       " 'data': None,\n",
       " 'included': ['metadatas', 'documents', 'distances']}"
      ]
     },
     "execution_count": 47,
     "metadata": {},
     "output_type": "execute_result"
    }
   ],
   "source": [
    "results"
   ]
  },
  {
   "cell_type": "code",
   "execution_count": 48,
   "metadata": {},
   "outputs": [],
   "source": [
    "if len(results) == 0 or results['distances'][0][1] > 0.7:\n",
    "    print(\"no relevant results found\")"
   ]
  },
  {
   "cell_type": "code",
   "execution_count": 49,
   "metadata": {},
   "outputs": [],
   "source": [
    "from langchain_core.prompts import ChatPromptTemplate\n",
    "from langchain_openai import ChatOpenAI"
   ]
  },
  {
   "cell_type": "code",
   "execution_count": 50,
   "metadata": {},
   "outputs": [],
   "source": [
    "model = ChatOpenAI(model=\"gpt-3.5-turbo\")"
   ]
  },
  {
   "cell_type": "code",
   "execution_count": 51,
   "metadata": {},
   "outputs": [
    {
     "name": "stdout",
     "output_type": "stream",
     "text": [
      "###########-BOT-############\n",
      "There is no information in the provided context about ice cream.\n"
     ]
    }
   ],
   "source": [
    "PROMPT_TEMPLATE = \"\"\"\n",
    "Answer the question based only only on the following context:\n",
    "{context} \n",
    "---\n",
    "Answer the question based in the above context: {query}\n",
    "\"\"\"\n",
    "\n",
    "context_text = \"\\n\\n--\\n\\n\".join([doc for doc in results['documents'][0]])\n",
    "prompt_template = ChatPromptTemplate.from_template(PROMPT_TEMPLATE)\n",
    "prompt = prompt_template.format(context=context_text, query=query_txt)\n",
    "\n",
    "response_text = model.invoke(prompt)\n",
    "\n",
    "print(\"###########-BOT-############\")\n",
    "print(response_text.content)"
   ]
  },
  {
   "cell_type": "code",
   "execution_count": 43,
   "metadata": {},
   "outputs": [
    {
     "name": "stdout",
     "output_type": "stream",
     "text": [
      "\u001b[31mhello\u001b[0m \u001b[32mworld\u001b[0m\n"
     ]
    }
   ],
   "source": [
    "from termcolor import colored\n",
    "\n",
    "print(colored('hello', 'red'), colored('world', 'green'))"
   ]
  },
  {
   "cell_type": "code",
   "execution_count": 44,
   "metadata": {},
   "outputs": [],
   "source": [
    "query_txt = input(colored(\"Enter Prompt: \", \"blue\", \"on_white\", attrs=['reverse', 'blink']))"
   ]
  },
  {
   "cell_type": "code",
   "execution_count": null,
   "metadata": {},
   "outputs": [],
   "source": []
  }
 ],
 "metadata": {
  "kernelspec": {
   "display_name": "base",
   "language": "python",
   "name": "python3"
  },
  "language_info": {
   "codemirror_mode": {
    "name": "ipython",
    "version": 3
   },
   "file_extension": ".py",
   "mimetype": "text/x-python",
   "name": "python",
   "nbconvert_exporter": "python",
   "pygments_lexer": "ipython3",
   "version": "3.11.4"
  }
 },
 "nbformat": 4,
 "nbformat_minor": 2
}
